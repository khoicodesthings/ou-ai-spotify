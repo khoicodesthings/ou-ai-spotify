{
 "cells": [
  {
   "cell_type": "markdown",
   "id": "1d5be60e",
   "metadata": {},
   "source": [
    "# Spotify Streaming History Analysis"
   ]
  },
  {
   "cell_type": "markdown",
   "id": "85348fbe",
   "metadata": {},
   "source": [
    "## Library Imports"
   ]
  },
  {
   "cell_type": "code",
   "execution_count": null,
   "id": "636a7cdd",
   "metadata": {},
   "outputs": [],
   "source": [
    "import json # to handle JSON data\n",
    "import pandas as pd # for data manipulation\n",
    "import seaborn as sns # for data visualization\n",
    "import matplotlib.pyplot as plt # also for data visualization"
   ]
  },
  {
   "cell_type": "markdown",
   "id": "fbd1c94c",
   "metadata": {},
   "source": [
    "## Data Loading"
   ]
  },
  {
   "cell_type": "code",
   "execution_count": null,
   "id": "a168bc54",
   "metadata": {},
   "outputs": [],
   "source": [
    "# Load the provided JSON files\n",
    "files = [\n",
    "    \"data/StreamingHistory_music_0.json\",\n",
    "    \"data/StreamingHistory_music_1.json\",\n",
    "    \"data/StreamingHistory_music_2.json\",\n",
    "    \"data/StreamingHistory_music_3.json\"\n",
    "]\n",
    "\n",
    "data = []\n",
    "for file in files:\n",
    "    with open(file, 'r', encoding='utf-8') as f:\n",
    "        data.extend(json.load(f))\n",
    "\n",
    "# Convert data into a pandas DataFrame\n",
    "df = pd.DataFrame(data)\n",
    "\n",
    "# Convert endTime to datetime format\n",
    "df['endTime'] = pd.to_datetime(df['endTime'])\n",
    "\n",
    "# Filter for only 2025 streaming\n",
    "df = df[df['endTime'] >= '2025-01-01']\n",
    "\n",
    "\n",
    "# What are the first few songs I listened to in 2025?\n",
    "df.head()\n"
   ]
  },
  {
   "cell_type": "markdown",
   "id": "ea43ee73",
   "metadata": {},
   "source": [
    "## Analysis"
   ]
  },
  {
   "cell_type": "markdown",
   "id": "02a2399b",
   "metadata": {},
   "source": [
    "### Most Listened-to Artists"
   ]
  },
  {
   "cell_type": "code",
   "execution_count": null,
   "id": "089cedb2",
   "metadata": {},
   "outputs": [],
   "source": [
    "# List my 10 most listened-to artists\n",
    "artist_time_played = df.groupby('artistName')['msPlayed'].sum().sort_values(ascending=False)\n",
    "artist_time_played.head(10)\n"
   ]
  },
  {
   "cell_type": "markdown",
   "id": "a7e199e5",
   "metadata": {},
   "source": [
    "### Most Played Tracks"
   ]
  },
  {
   "cell_type": "code",
   "execution_count": null,
   "id": "966f81ef",
   "metadata": {},
   "outputs": [],
   "source": [
    "\n",
    "# List my 10 most played tracks\n",
    "most_played_tracks = df.groupby(['artistName', 'trackName']).size().sort_values(ascending=False)\n",
    "most_played_tracks.head(10)\n"
   ]
  },
  {
   "cell_type": "markdown",
   "id": "2302d973",
   "metadata": {},
   "source": [
    "### Total Listening Time"
   ]
  },
  {
   "cell_type": "code",
   "execution_count": null,
   "id": "8c267a4b",
   "metadata": {},
   "outputs": [],
   "source": [
    "\n",
    "# Total listening time\n",
    "total_listening_time = df['msPlayed'].sum()\n",
    "\n",
    "# convert ms to hours\n",
    "total_listening_time = total_listening_time / (1000 * 60 * 60)\n",
    "\n",
    "#round to 3 decimal places\n",
    "total_listening_time = round(total_listening_time, 3)\n",
    "\n",
    "print(total_listening_time, \"hours\")\n"
   ]
  },
  {
   "cell_type": "markdown",
   "id": "9dbdd184",
   "metadata": {},
   "source": [
    "### Distribution of Listening by Date"
   ]
  },
  {
   "cell_type": "code",
   "execution_count": null,
   "id": "9c0b47ab",
   "metadata": {},
   "outputs": [],
   "source": [
    "\n",
    "# Distribution of listening by date\n",
    "listening_by_date = df.groupby(df['endTime'].dt.date)['msPlayed'].sum()\n",
    "listening_by_date.head()\n",
    "\n",
    "# Convert to hours for better readability\n",
    "listening_by_date = listening_by_date / (1000 * 60 * 60)\n",
    "\n",
    "listening_by_date.head()"
   ]
  },
  {
   "cell_type": "markdown",
   "id": "7f97c71e",
   "metadata": {},
   "source": [
    "### Time Series Plot for Listening Time Distribution by Date"
   ]
  },
  {
   "cell_type": "code",
   "execution_count": null,
   "id": "79ab4d66",
   "metadata": {},
   "outputs": [],
   "source": [
    "# 4. Time series plot for distribution by date\n",
    "plt.figure(figsize=(14, 6))\n",
    "#convert to hours\n",
    "listening_by_date = listening_by_date / (1000 * 60 * 60)\n",
    "listening_by_date.plot(kind='line', color='green')\n",
    "plt.title('Distribution of Listening by Date')\n",
    "plt.ylabel('Total Time Played (hours)')\n",
    "plt.xlabel('Date')\n",
    "plt.tight_layout()\n",
    "plt.show()"
   ]
  },
  {
   "cell_type": "markdown",
   "id": "7c2b3904",
   "metadata": {},
   "source": [
    "### Hourly Listening Activity by Week"
   ]
  },
  {
   "cell_type": "code",
   "execution_count": null,
   "id": "16ec11de",
   "metadata": {},
   "outputs": [],
   "source": [
    "# Extract day of the week from the endTime column\n",
    "df['day_of_week'] = df['endTime'].dt.day_name()\n",
    "\n",
    "# Group by day of the week and sum the msPlayed\n",
    "listening_by_day = df.groupby('day_of_week')['msPlayed'].sum()\n",
    "\n",
    "# Order the days for visualization\n",
    "ordered_days = ['Monday', 'Tuesday', 'Wednesday', 'Thursday', 'Friday', 'Saturday', 'Sunday']\n",
    "listening_by_day = listening_by_day.reindex(ordered_days)\n",
    "\n",
    "# Calculate the number of unique weeks in the dataset to get the average\n",
    "num_weeks = (df['endTime'].max() - df['endTime'].min()).days / 7\n",
    "average_listening_by_day = listening_by_day / num_weeks\n",
    "\n",
    "average_listening_by_day\n"
   ]
  },
  {
   "cell_type": "code",
   "execution_count": null,
   "id": "9717fdf4",
   "metadata": {},
   "outputs": [],
   "source": [
    "# Extract the hour from the endTime column\n",
    "df['hour'] = df['endTime'].dt.hour\n",
    "\n",
    "# Group by day of the week and hour, then sum the msPlayed, converted to hours\n",
    "listening_by_day_hour = df.groupby(['day_of_week', 'hour'])['msPlayed'].sum().unstack() / (1000 * 60 * 60)\n",
    "\n",
    "# Order the days for visualization\n",
    "listening_by_day_hour = listening_by_day_hour.reindex(ordered_days)\n",
    "\n",
    "# Calculate the average listening time for each day-hour combination\n",
    "average_listening_by_day_hour = listening_by_day_hour / num_weeks\n",
    "\n",
    "average_listening_by_day_hour\n"
   ]
  },
  {
   "cell_type": "markdown",
   "id": "24a33677",
   "metadata": {},
   "source": [
    "### Convert from Values to Visuals"
   ]
  },
  {
   "cell_type": "code",
   "execution_count": null,
   "id": "a4128e5a",
   "metadata": {},
   "outputs": [],
   "source": [
    "# Plotting the heatmap for listening activity by day of the week\n",
    "plt.figure(figsize=(14, 7))\n",
    "sns.heatmap(average_listening_by_day_hour, cmap=\"YlGnBu\", linewidths=.5)\n",
    "plt.title('Average Hourly Listening Activity by Day of the Week')\n",
    "plt.xlabel('Hour of the Day')\n",
    "plt.ylabel('Day of the Week')\n",
    "\n",
    "# label the legend\n",
    "cbar = plt.gcf().axes[-1]\n",
    "cbar.set_ylabel('Listening Time (hours)', rotation=270, labelpad=15)\n",
    "\n",
    "plt.tight_layout()\n",
    "plt.show()\n"
   ]
  },
  {
   "cell_type": "markdown",
   "id": "94859d0a",
   "metadata": {},
   "source": [
    "How about filtering for a specific artist?"
   ]
  },
  {
   "cell_type": "code",
   "execution_count": null,
   "id": "b0c67d98",
   "metadata": {},
   "outputs": [],
   "source": [
    "def listening_hours_for_artist(artist_name):\n",
    "    # Filter the dataframe for the given artist\n",
    "    artist_data = df[df['artistName'] == artist_name]\n",
    "    \n",
    "    # Sum the total listening time in milliseconds\n",
    "    total_ms = artist_data['msPlayed'].sum()\n",
    "    \n",
    "    # Convert milliseconds to hours\n",
    "    total_hours = total_ms / (1000 * 60 * 60)\n",
    "    \n",
    "    return total_hours\n",
    "\n",
    "artist_name = \"Linkin Park\"  # Replace with the artist's name you want to highlight\n",
    "hours = listening_hours_for_artist(artist_name)\n",
    "print(f\"Total listening hours for {artist_name}: {hours:.2f} hours\")\n"
   ]
  },
  {
   "cell_type": "markdown",
   "id": "c5e463de",
   "metadata": {},
   "source": [
    "# Some More Statistics"
   ]
  },
  {
   "cell_type": "code",
   "execution_count": null,
   "id": "0a9b6b3b",
   "metadata": {},
   "outputs": [],
   "source": [
    "# Mean song duration\n",
    "mean_song_duration_ms = df['msPlayed'].mean()\n",
    "# Convert to seconds\n",
    "mean_song_duration_sec = mean_song_duration_ms / 1000\n",
    "print(f\"Mean song duration: {mean_song_duration_sec:.2f} seconds\")\n",
    "\n",
    "# Convert to minutes and seconds\n",
    "mean_minutes = int(mean_song_duration_sec // 60)\n",
    "mean_seconds = int(mean_song_duration_sec % 60)\n",
    "print(f\"Or: {mean_minutes} minutes and {mean_seconds} seconds\")"
   ]
  },
  {
   "cell_type": "code",
   "execution_count": null,
   "id": "ce41475a",
   "metadata": {},
   "outputs": [],
   "source": [
    "# Median song duration\n",
    "median_song_duration_ms = df['msPlayed'].median()\n",
    "# Convert to seconds\n",
    "median_song_duration_sec = median_song_duration_ms / 1000\n",
    "print(f\"Median song duration: {median_song_duration_sec:.2f} seconds\")\n",
    "\n",
    "# Convert to minutes and seconds\n",
    "median_minutes = int(median_song_duration_sec // 60)\n",
    "median_seconds = int(median_song_duration_sec % 60)\n",
    "print(f\"Or: {median_minutes} minutes and {median_seconds} seconds\")"
   ]
  },
  {
   "cell_type": "code",
   "execution_count": null,
   "id": "32bb194b",
   "metadata": {},
   "outputs": [],
   "source": [
    "# Song length quartiles\n",
    "quartiles = df['msPlayed'].quantile([0.25, 0.5, 0.75])\n",
    "quartiles_sec = quartiles / 1000  # convert to seconds\n",
    "# convert to minutes and seconds for each quartile\n",
    "for q in quartiles_sec.index:\n",
    "    total_seconds = quartiles_sec[q]\n",
    "    minutes = int(total_seconds // 60)\n",
    "    seconds = int(total_seconds % 60)\n",
    "    print(f\"{int(q*100)}th percentile: {minutes} minutes and {seconds} seconds\")\n",
    "\n",
    "# 25th percentile: value at which 25% of songs are shorter and 75% are longer\n",
    "# 50th percentile: median\n",
    "# 75th percentile: value at which 75% of songs are shorter and 25% are longer\n"
   ]
  },
  {
   "cell_type": "markdown",
   "id": "ec8426af",
   "metadata": {},
   "source": [
    "## Some More Visualizations"
   ]
  },
  {
   "cell_type": "markdown",
   "id": "e620498a",
   "metadata": {},
   "source": [
    "### Average listening time by day of the week"
   ]
  },
  {
   "cell_type": "code",
   "execution_count": null,
   "id": "c0b42aa7",
   "metadata": {},
   "outputs": [],
   "source": [
    "# Visualize average listening by day of the week\n",
    "# convert to hours for better readability\n",
    "average_listening_by_day_bar = average_listening_by_day / (1000 * 60 * 60)\n",
    "plt.figure(figsize=(10, 5))\n",
    "sns.barplot(x=average_listening_by_day_bar.index, y=average_listening_by_day_bar.values)\n",
    "plt.title('Average Listening Time by Day of the Week in 2025')\n",
    "plt.xlabel('Day of the Week')\n",
    "plt.ylabel('Average Hours Played')\n",
    "plt.xticks(rotation=45)\n",
    "plt.tight_layout()\n",
    "plt.show()"
   ]
  },
  {
   "cell_type": "markdown",
   "id": "24fa2cf7",
   "metadata": {},
   "source": [
    "### Times played by top 10 artists"
   ]
  },
  {
   "cell_type": "code",
   "execution_count": null,
   "id": "26993c1c",
   "metadata": {},
   "outputs": [],
   "source": [
    "# 1. Bar chart for the top 10 most listened-to artists\n",
    "plt.figure(figsize=(12, 6))\n",
    "#convert to hours\n",
    "artist_time_plot= artist_time_played.head(10) / (1000 * 60 * 60)\n",
    "artist_time_plot.plot(kind='bar', color='skyblue')\n",
    "plt.title('Top 10 Most Listened-to Artists')\n",
    "plt.ylabel('Total Time Played (hours)')\n",
    "plt.xlabel('Artist Name')\n",
    "plt.xticks(rotation=45, ha='right')\n",
    "plt.tight_layout()\n",
    "plt.show()"
   ]
  },
  {
   "cell_type": "markdown",
   "id": "3a6e831a",
   "metadata": {},
   "source": [
    "### Times plays for top 10 most played tracks"
   ]
  },
  {
   "cell_type": "code",
   "execution_count": null,
   "id": "65410fe5",
   "metadata": {},
   "outputs": [],
   "source": [
    "# 2. Bar chart for the top 10 most played tracks\n",
    "plt.figure(figsize=(12, 6))\n",
    "most_played_tracks.head(10).plot(kind='bar', color='coral')\n",
    "plt.title('Top 10 Most Played Tracks')\n",
    "plt.ylabel('Number of Plays')\n",
    "plt.xlabel('Artist - Track Name')\n",
    "plt.xticks(rotation=45, ha='right')\n",
    "plt.tight_layout()\n",
    "plt.show()"
   ]
  },
  {
   "cell_type": "markdown",
   "id": "478400f3",
   "metadata": {},
   "source": [
    "### Pie chart of listening time by top 10 artists "
   ]
  },
  {
   "cell_type": "code",
   "execution_count": null,
   "id": "38a257c3",
   "metadata": {},
   "outputs": [],
   "source": [
    "# 3. Pie chart for listening time by top 10 artists\n",
    "plt.figure(figsize=(10, 10))\n",
    "artist_time_played.head(10).plot(kind='pie', autopct='%1.1f%%', startangle=90, colors=plt.cm.Paired.colors)\n",
    "plt.title('Percentage of Listening Time by Top 10 Artists')\n",
    "plt.ylabel('')\n",
    "plt.show()"
   ]
  }
 ],
 "metadata": {
  "kernelspec": {
   "display_name": "spotify-workshop",
   "language": "python",
   "name": "python3"
  },
  "language_info": {
   "codemirror_mode": {
    "name": "ipython",
    "version": 3
   },
   "file_extension": ".py",
   "mimetype": "text/x-python",
   "name": "python",
   "nbconvert_exporter": "python",
   "pygments_lexer": "ipython3",
   "version": "3.12.7"
  }
 },
 "nbformat": 4,
 "nbformat_minor": 5
}
